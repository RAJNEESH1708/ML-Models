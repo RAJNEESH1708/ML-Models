{
 "cells": [
  {
   "cell_type": "code",
   "execution_count": 1,
   "metadata": {
    "_cell_guid": "b1076dfc-b9ad-4769-8c92-a6c4dae69d19",
    "_uuid": "8f2839f25d086af736a60e9eeb907d3b93b6e0e5",
    "execution": {
     "iopub.execute_input": "2021-01-07T10:58:51.149044Z",
     "iopub.status.busy": "2021-01-07T10:58:51.147948Z",
     "iopub.status.idle": "2021-01-07T10:58:51.154170Z",
     "shell.execute_reply": "2021-01-07T10:58:51.153233Z"
    },
    "papermill": {
     "duration": 0.028261,
     "end_time": "2021-01-07T10:58:51.154367",
     "exception": false,
     "start_time": "2021-01-07T10:58:51.126106",
     "status": "completed"
    },
    "tags": []
   },
   "outputs": [
    {
     "name": "stdout",
     "output_type": "stream",
     "text": [
      "/kaggle/input/titanic/train.csv\n",
      "/kaggle/input/titanic/test.csv\n",
      "/kaggle/input/titanic/gender_submission.csv\n"
     ]
    }
   ],
   "source": [
    "# This Python 3 environment comes with many helpful analytics libraries installed\n",
    "# It is defined by the kaggle/python Docker image: https://github.com/kaggle/docker-python\n",
    "# For example, here's several helpful packages to load\n",
    "\n",
    "import numpy as np # linear algebra\n",
    "import pandas as pd # data processing, CSV file I/O (e.g. pd.read_csv)\n",
    "\n",
    "# Input data files are available in the read-only \"../input/\" directory\n",
    "# For example, running this (by clicking run or pressing Shift+Enter) will list all files under the input directory\n",
    "\n",
    "import os\n",
    "for dirname, _, filenames in os.walk('/kaggle/input'):\n",
    "    for filename in filenames:\n",
    "        print(os.path.join(dirname, filename))\n",
    "\n",
    "# You can write up to 20GB to the current directory (/kaggle/working/) that gets preserved as output when you create a version using \"Save & Run All\" \n",
    "# You can also write temporary files to /kaggle/temp/, but they won't be saved outside of the current session"
   ]
  },
  {
   "cell_type": "code",
   "execution_count": 2,
   "metadata": {
    "_cell_guid": "79c7e3d0-c299-4dcb-8224-4455121ee9b0",
    "_uuid": "d629ff2d2480ee46fbb7e2d37f6b5fab8052498a",
    "execution": {
     "iopub.execute_input": "2021-01-07T10:58:51.187268Z",
     "iopub.status.busy": "2021-01-07T10:58:51.186604Z",
     "iopub.status.idle": "2021-01-07T10:58:51.211890Z",
     "shell.execute_reply": "2021-01-07T10:58:51.210996Z"
    },
    "papermill": {
     "duration": 0.044707,
     "end_time": "2021-01-07T10:58:51.212042",
     "exception": false,
     "start_time": "2021-01-07T10:58:51.167335",
     "status": "completed"
    },
    "tags": []
   },
   "outputs": [],
   "source": [
    "dataset = pd.read_csv(\"/kaggle/input/titanic/train.csv\")\n",
    "X = dataset.iloc[:, np.r_[2:3, 4:8]].values\n",
    "y = dataset.iloc[:,1].values"
   ]
  },
  {
   "cell_type": "code",
   "execution_count": 3,
   "metadata": {
    "execution": {
     "iopub.execute_input": "2021-01-07T10:58:51.245484Z",
     "iopub.status.busy": "2021-01-07T10:58:51.244422Z",
     "iopub.status.idle": "2021-01-07T10:58:51.258840Z",
     "shell.execute_reply": "2021-01-07T10:58:51.258009Z"
    },
    "papermill": {
     "duration": 0.034444,
     "end_time": "2021-01-07T10:58:51.258977",
     "exception": false,
     "start_time": "2021-01-07T10:58:51.224533",
     "status": "completed"
    },
    "tags": []
   },
   "outputs": [],
   "source": [
    "dataset = pd.read_csv(\"/kaggle/input/titanic/test.csv\")\n",
    "X_test = dataset.iloc[:, np.r_[1:2, 3:7]].values\n",
    "y_test = dataset.iloc[:,0].values"
   ]
  },
  {
   "cell_type": "code",
   "execution_count": 4,
   "metadata": {
    "execution": {
     "iopub.execute_input": "2021-01-07T10:58:51.290170Z",
     "iopub.status.busy": "2021-01-07T10:58:51.289153Z",
     "iopub.status.idle": "2021-01-07T10:58:51.293362Z",
     "shell.execute_reply": "2021-01-07T10:58:51.294049Z"
    },
    "papermill": {
     "duration": 0.02311,
     "end_time": "2021-01-07T10:58:51.294221",
     "exception": false,
     "start_time": "2021-01-07T10:58:51.271111",
     "status": "completed"
    },
    "tags": []
   },
   "outputs": [
    {
     "name": "stdout",
     "output_type": "stream",
     "text": [
      "[[3 'male' 22.0 1 0]\n",
      " [1 'female' 38.0 1 0]\n",
      " [3 'female' 26.0 0 0]\n",
      " ...\n",
      " [3 'female' nan 1 2]\n",
      " [1 'male' 26.0 0 0]\n",
      " [3 'male' 32.0 0 0]]\n"
     ]
    }
   ],
   "source": [
    "print(X)"
   ]
  },
  {
   "cell_type": "code",
   "execution_count": 5,
   "metadata": {
    "execution": {
     "iopub.execute_input": "2021-01-07T10:58:51.326305Z",
     "iopub.status.busy": "2021-01-07T10:58:51.325601Z",
     "iopub.status.idle": "2021-01-07T10:58:52.689926Z",
     "shell.execute_reply": "2021-01-07T10:58:52.689172Z"
    },
    "papermill": {
     "duration": 1.383564,
     "end_time": "2021-01-07T10:58:52.690070",
     "exception": false,
     "start_time": "2021-01-07T10:58:51.306506",
     "status": "completed"
    },
    "tags": []
   },
   "outputs": [],
   "source": [
    "from sklearn.impute import SimpleImputer\n",
    "imputer = SimpleImputer(missing_values = np.nan,strategy = 'mean')\n",
    "imputer.fit(X[:,2:3])\n",
    "X[:,2:3] = imputer.transform(X[:,2:3])"
   ]
  },
  {
   "cell_type": "code",
   "execution_count": 6,
   "metadata": {
    "execution": {
     "iopub.execute_input": "2021-01-07T10:58:52.724697Z",
     "iopub.status.busy": "2021-01-07T10:58:52.723470Z",
     "iopub.status.idle": "2021-01-07T10:58:52.728053Z",
     "shell.execute_reply": "2021-01-07T10:58:52.727227Z"
    },
    "papermill": {
     "duration": 0.025642,
     "end_time": "2021-01-07T10:58:52.728194",
     "exception": false,
     "start_time": "2021-01-07T10:58:52.702552",
     "status": "completed"
    },
    "tags": []
   },
   "outputs": [],
   "source": [
    "from sklearn.impute import SimpleImputer\n",
    "imputer = SimpleImputer(missing_values = np.nan,strategy = 'mean')\n",
    "imputer.fit(X[:,2:3])\n",
    "X_test[:,2:3] = imputer.transform(X_test[:,2:3])"
   ]
  },
  {
   "cell_type": "code",
   "execution_count": 7,
   "metadata": {
    "execution": {
     "iopub.execute_input": "2021-01-07T10:58:52.760156Z",
     "iopub.status.busy": "2021-01-07T10:58:52.759437Z",
     "iopub.status.idle": "2021-01-07T10:58:52.763890Z",
     "shell.execute_reply": "2021-01-07T10:58:52.763073Z"
    },
    "papermill": {
     "duration": 0.022993,
     "end_time": "2021-01-07T10:58:52.764076",
     "exception": false,
     "start_time": "2021-01-07T10:58:52.741083",
     "status": "completed"
    },
    "tags": []
   },
   "outputs": [
    {
     "name": "stdout",
     "output_type": "stream",
     "text": [
      "[[3 'male' 22.0 1 0]\n",
      " [1 'female' 38.0 1 0]\n",
      " [3 'female' 26.0 0 0]\n",
      " ...\n",
      " [3 'female' 29.69911764705882 1 2]\n",
      " [1 'male' 26.0 0 0]\n",
      " [3 'male' 32.0 0 0]]\n"
     ]
    }
   ],
   "source": [
    "print(X)"
   ]
  },
  {
   "cell_type": "code",
   "execution_count": 8,
   "metadata": {
    "execution": {
     "iopub.execute_input": "2021-01-07T10:58:52.798542Z",
     "iopub.status.busy": "2021-01-07T10:58:52.797829Z",
     "iopub.status.idle": "2021-01-07T10:58:52.815357Z",
     "shell.execute_reply": "2021-01-07T10:58:52.814626Z"
    },
    "papermill": {
     "duration": 0.037208,
     "end_time": "2021-01-07T10:58:52.815473",
     "exception": false,
     "start_time": "2021-01-07T10:58:52.778265",
     "status": "completed"
    },
    "tags": []
   },
   "outputs": [],
   "source": [
    "\n",
    "from sklearn.compose import ColumnTransformer\n",
    "from sklearn.preprocessing import OneHotEncoder\n",
    "ct = ColumnTransformer(transformers=[('encoder',OneHotEncoder(),[1])],remainder='passthrough')\n",
    "X = np.array(ct.fit_transform(X))"
   ]
  },
  {
   "cell_type": "code",
   "execution_count": 9,
   "metadata": {
    "execution": {
     "iopub.execute_input": "2021-01-07T10:58:52.851635Z",
     "iopub.status.busy": "2021-01-07T10:58:52.850684Z",
     "iopub.status.idle": "2021-01-07T10:58:52.856397Z",
     "shell.execute_reply": "2021-01-07T10:58:52.855773Z"
    },
    "papermill": {
     "duration": 0.028358,
     "end_time": "2021-01-07T10:58:52.856550",
     "exception": false,
     "start_time": "2021-01-07T10:58:52.828192",
     "status": "completed"
    },
    "tags": []
   },
   "outputs": [],
   "source": [
    "from sklearn.compose import ColumnTransformer\n",
    "from sklearn.preprocessing import OneHotEncoder\n",
    "ct = ColumnTransformer(transformers=[('encoder',OneHotEncoder(),[1])],remainder='passthrough')\n",
    "X_test = np.array(ct.fit_transform(X_test))"
   ]
  },
  {
   "cell_type": "code",
   "execution_count": 10,
   "metadata": {
    "execution": {
     "iopub.execute_input": "2021-01-07T10:58:52.891177Z",
     "iopub.status.busy": "2021-01-07T10:58:52.890343Z",
     "iopub.status.idle": "2021-01-07T10:58:52.896108Z",
     "shell.execute_reply": "2021-01-07T10:58:52.895025Z"
    },
    "papermill": {
     "duration": 0.025945,
     "end_time": "2021-01-07T10:58:52.896273",
     "exception": false,
     "start_time": "2021-01-07T10:58:52.870328",
     "status": "completed"
    },
    "tags": []
   },
   "outputs": [
    {
     "name": "stdout",
     "output_type": "stream",
     "text": [
      "[[0.0 1.0 3 22.0 1 0]\n",
      " [1.0 0.0 1 38.0 1 0]\n",
      " [1.0 0.0 3 26.0 0 0]\n",
      " ...\n",
      " [1.0 0.0 3 29.69911764705882 1 2]\n",
      " [0.0 1.0 1 26.0 0 0]\n",
      " [0.0 1.0 3 32.0 0 0]]\n"
     ]
    }
   ],
   "source": [
    "print(X)"
   ]
  },
  {
   "cell_type": "code",
   "execution_count": 11,
   "metadata": {
    "execution": {
     "iopub.execute_input": "2021-01-07T10:58:52.939528Z",
     "iopub.status.busy": "2021-01-07T10:58:52.938280Z",
     "iopub.status.idle": "2021-01-07T10:58:52.946244Z",
     "shell.execute_reply": "2021-01-07T10:58:52.944927Z"
    },
    "papermill": {
     "duration": 0.032567,
     "end_time": "2021-01-07T10:58:52.946453",
     "exception": false,
     "start_time": "2021-01-07T10:58:52.913886",
     "status": "completed"
    },
    "tags": []
   },
   "outputs": [],
   "source": [
    "from sklearn.preprocessing import StandardScaler\n",
    "sc = StandardScaler()\n",
    "\n",
    "X[:,2:6] = sc.fit_transform(X[:,2:6])\n",
    "#no need to fit the test set\n",
    "X_test[:,2:6] = sc.transform(X_test[:,2:6])"
   ]
  },
  {
   "cell_type": "code",
   "execution_count": 12,
   "metadata": {
    "execution": {
     "iopub.execute_input": "2021-01-07T10:58:52.984247Z",
     "iopub.status.busy": "2021-01-07T10:58:52.983181Z",
     "iopub.status.idle": "2021-01-07T10:58:53.021278Z",
     "shell.execute_reply": "2021-01-07T10:58:53.020676Z"
    },
    "papermill": {
     "duration": 0.060232,
     "end_time": "2021-01-07T10:58:53.021429",
     "exception": false,
     "start_time": "2021-01-07T10:58:52.961197",
     "status": "completed"
    },
    "tags": []
   },
   "outputs": [
    {
     "data": {
      "text/plain": [
       "SVC(random_state=0)"
      ]
     },
     "execution_count": 12,
     "metadata": {},
     "output_type": "execute_result"
    }
   ],
   "source": [
    "from sklearn.svm import SVC\n",
    "classifier = SVC(kernel = 'rbf', random_state = 0)\n",
    "classifier.fit(X, y)"
   ]
  },
  {
   "cell_type": "code",
   "execution_count": 13,
   "metadata": {
    "execution": {
     "iopub.execute_input": "2021-01-07T10:58:53.070567Z",
     "iopub.status.busy": "2021-01-07T10:58:53.069623Z",
     "iopub.status.idle": "2021-01-07T10:58:53.091463Z",
     "shell.execute_reply": "2021-01-07T10:58:53.090431Z"
    },
    "papermill": {
     "duration": 0.047862,
     "end_time": "2021-01-07T10:58:53.091697",
     "exception": false,
     "start_time": "2021-01-07T10:58:53.043835",
     "status": "completed"
    },
    "tags": []
   },
   "outputs": [
    {
     "name": "stdout",
     "output_type": "stream",
     "text": [
      "[[ 892    0]\n",
      " [ 893    1]\n",
      " [ 894    0]\n",
      " [ 895    0]\n",
      " [ 896    1]\n",
      " [ 897    0]\n",
      " [ 898    1]\n",
      " [ 899    0]\n",
      " [ 900    1]\n",
      " [ 901    0]\n",
      " [ 902    0]\n",
      " [ 903    0]\n",
      " [ 904    1]\n",
      " [ 905    0]\n",
      " [ 906    1]\n",
      " [ 907    1]\n",
      " [ 908    0]\n",
      " [ 909    0]\n",
      " [ 910    1]\n",
      " [ 911    1]\n",
      " [ 912    0]\n",
      " [ 913    1]\n",
      " [ 914    1]\n",
      " [ 915    0]\n",
      " [ 916    1]\n",
      " [ 917    0]\n",
      " [ 918    1]\n",
      " [ 919    0]\n",
      " [ 920    0]\n",
      " [ 921    0]\n",
      " [ 922    0]\n",
      " [ 923    0]\n",
      " [ 924    0]\n",
      " [ 925    0]\n",
      " [ 926    0]\n",
      " [ 927    0]\n",
      " [ 928    1]\n",
      " [ 929    1]\n",
      " [ 930    0]\n",
      " [ 931    0]\n",
      " [ 932    0]\n",
      " [ 933    0]\n",
      " [ 934    0]\n",
      " [ 935    1]\n",
      " [ 936    1]\n",
      " [ 937    0]\n",
      " [ 938    0]\n",
      " [ 939    0]\n",
      " [ 940    1]\n",
      " [ 941    1]\n",
      " [ 942    0]\n",
      " [ 943    0]\n",
      " [ 944    1]\n",
      " [ 945    1]\n",
      " [ 946    0]\n",
      " [ 947    0]\n",
      " [ 948    0]\n",
      " [ 949    0]\n",
      " [ 950    0]\n",
      " [ 951    1]\n",
      " [ 952    0]\n",
      " [ 953    0]\n",
      " [ 954    0]\n",
      " [ 955    1]\n",
      " [ 956    1]\n",
      " [ 957    1]\n",
      " [ 958    1]\n",
      " [ 959    0]\n",
      " [ 960    0]\n",
      " [ 961    0]\n",
      " [ 962    1]\n",
      " [ 963    0]\n",
      " [ 964    1]\n",
      " [ 965    0]\n",
      " [ 966    1]\n",
      " [ 967    0]\n",
      " [ 968    0]\n",
      " [ 969    1]\n",
      " [ 970    0]\n",
      " [ 971    1]\n",
      " [ 972    1]\n",
      " [ 973    0]\n",
      " [ 974    0]\n",
      " [ 975    0]\n",
      " [ 976    0]\n",
      " [ 977    0]\n",
      " [ 978    1]\n",
      " [ 979    1]\n",
      " [ 980    1]\n",
      " [ 981    1]\n",
      " [ 982    1]\n",
      " [ 983    0]\n",
      " [ 984    1]\n",
      " [ 985    0]\n",
      " [ 986    0]\n",
      " [ 987    0]\n",
      " [ 988    1]\n",
      " [ 989    0]\n",
      " [ 990    1]\n",
      " [ 991    0]\n",
      " [ 992    1]\n",
      " [ 993    0]\n",
      " [ 994    0]\n",
      " [ 995    0]\n",
      " [ 996    1]\n",
      " [ 997    0]\n",
      " [ 998    0]\n",
      " [ 999    0]\n",
      " [1000    0]\n",
      " [1001    0]\n",
      " [1002    0]\n",
      " [1003    1]\n",
      " [1004    1]\n",
      " [1005    1]\n",
      " [1006    1]\n",
      " [1007    0]\n",
      " [1008    0]\n",
      " [1009    1]\n",
      " [1010    0]\n",
      " [1011    1]\n",
      " [1012    1]\n",
      " [1013    0]\n",
      " [1014    1]\n",
      " [1015    0]\n",
      " [1016    0]\n",
      " [1017    1]\n",
      " [1018    0]\n",
      " [1019    1]\n",
      " [1020    0]\n",
      " [1021    0]\n",
      " [1022    0]\n",
      " [1023    0]\n",
      " [1024    0]\n",
      " [1025    0]\n",
      " [1026    0]\n",
      " [1027    0]\n",
      " [1028    0]\n",
      " [1029    0]\n",
      " [1030    1]\n",
      " [1031    0]\n",
      " [1032    0]\n",
      " [1033    1]\n",
      " [1034    0]\n",
      " [1035    0]\n",
      " [1036    0]\n",
      " [1037    0]\n",
      " [1038    0]\n",
      " [1039    0]\n",
      " [1040    0]\n",
      " [1041    0]\n",
      " [1042    1]\n",
      " [1043    0]\n",
      " [1044    0]\n",
      " [1045    1]\n",
      " [1046    0]\n",
      " [1047    0]\n",
      " [1048    1]\n",
      " [1049    1]\n",
      " [1050    0]\n",
      " [1051    1]\n",
      " [1052    1]\n",
      " [1053    1]\n",
      " [1054    1]\n",
      " [1055    0]\n",
      " [1056    0]\n",
      " [1057    1]\n",
      " [1058    0]\n",
      " [1059    0]\n",
      " [1060    1]\n",
      " [1061    1]\n",
      " [1062    0]\n",
      " [1063    0]\n",
      " [1064    0]\n",
      " [1065    0]\n",
      " [1066    0]\n",
      " [1067    1]\n",
      " [1068    1]\n",
      " [1069    0]\n",
      " [1070    1]\n",
      " [1071    1]\n",
      " [1072    0]\n",
      " [1073    0]\n",
      " [1074    1]\n",
      " [1075    0]\n",
      " [1076    1]\n",
      " [1077    0]\n",
      " [1078    1]\n",
      " [1079    0]\n",
      " [1080    0]\n",
      " [1081    0]\n",
      " [1082    0]\n",
      " [1083    0]\n",
      " [1084    0]\n",
      " [1085    0]\n",
      " [1086    1]\n",
      " [1087    0]\n",
      " [1088    1]\n",
      " [1089    1]\n",
      " [1090    0]\n",
      " [1091    1]\n",
      " [1092    1]\n",
      " [1093    1]\n",
      " [1094    0]\n",
      " [1095    1]\n",
      " [1096    0]\n",
      " [1097    0]\n",
      " [1098    1]\n",
      " [1099    0]\n",
      " [1100    1]\n",
      " [1101    0]\n",
      " [1102    0]\n",
      " [1103    0]\n",
      " [1104    0]\n",
      " [1105    1]\n",
      " [1106    0]\n",
      " [1107    0]\n",
      " [1108    1]\n",
      " [1109    0]\n",
      " [1110    1]\n",
      " [1111    0]\n",
      " [1112    1]\n",
      " [1113    0]\n",
      " [1114    1]\n",
      " [1115    0]\n",
      " [1116    1]\n",
      " [1117    1]\n",
      " [1118    0]\n",
      " [1119    1]\n",
      " [1120    0]\n",
      " [1121    0]\n",
      " [1122    0]\n",
      " [1123    1]\n",
      " [1124    0]\n",
      " [1125    0]\n",
      " [1126    0]\n",
      " [1127    0]\n",
      " [1128    0]\n",
      " [1129    0]\n",
      " [1130    1]\n",
      " [1131    1]\n",
      " [1132    1]\n",
      " [1133    1]\n",
      " [1134    0]\n",
      " [1135    0]\n",
      " [1136    0]\n",
      " [1137    0]\n",
      " [1138    1]\n",
      " [1139    0]\n",
      " [1140    1]\n",
      " [1141    1]\n",
      " [1142    1]\n",
      " [1143    0]\n",
      " [1144    0]\n",
      " [1145    0]\n",
      " [1146    0]\n",
      " [1147    0]\n",
      " [1148    0]\n",
      " [1149    0]\n",
      " [1150    1]\n",
      " [1151    0]\n",
      " [1152    0]\n",
      " [1153    0]\n",
      " [1154    1]\n",
      " [1155    1]\n",
      " [1156    0]\n",
      " [1157    0]\n",
      " [1158    0]\n",
      " [1159    0]\n",
      " [1160    1]\n",
      " [1161    0]\n",
      " [1162    0]\n",
      " [1163    0]\n",
      " [1164    1]\n",
      " [1165    1]\n",
      " [1166    0]\n",
      " [1167    1]\n",
      " [1168    0]\n",
      " [1169    0]\n",
      " [1170    0]\n",
      " [1171    0]\n",
      " [1172    1]\n",
      " [1173    1]\n",
      " [1174    1]\n",
      " [1175    1]\n",
      " [1176    1]\n",
      " [1177    0]\n",
      " [1178    0]\n",
      " [1179    0]\n",
      " [1180    0]\n",
      " [1181    0]\n",
      " [1182    0]\n",
      " [1183    1]\n",
      " [1184    0]\n",
      " [1185    0]\n",
      " [1186    0]\n",
      " [1187    0]\n",
      " [1188    1]\n",
      " [1189    0]\n",
      " [1190    0]\n",
      " [1191    0]\n",
      " [1192    0]\n",
      " [1193    0]\n",
      " [1194    0]\n",
      " [1195    0]\n",
      " [1196    1]\n",
      " [1197    1]\n",
      " [1198    0]\n",
      " [1199    1]\n",
      " [1200    0]\n",
      " [1201    1]\n",
      " [1202    0]\n",
      " [1203    0]\n",
      " [1204    0]\n",
      " [1205    1]\n",
      " [1206    1]\n",
      " [1207    1]\n",
      " [1208    0]\n",
      " [1209    0]\n",
      " [1210    0]\n",
      " [1211    0]\n",
      " [1212    0]\n",
      " [1213    0]\n",
      " [1214    0]\n",
      " [1215    0]\n",
      " [1216    1]\n",
      " [1217    0]\n",
      " [1218    1]\n",
      " [1219    0]\n",
      " [1220    0]\n",
      " [1221    0]\n",
      " [1222    1]\n",
      " [1223    0]\n",
      " [1224    0]\n",
      " [1225    1]\n",
      " [1226    0]\n",
      " [1227    0]\n",
      " [1228    0]\n",
      " [1229    0]\n",
      " [1230    0]\n",
      " [1231    0]\n",
      " [1232    0]\n",
      " [1233    0]\n",
      " [1234    0]\n",
      " [1235    1]\n",
      " [1236    0]\n",
      " [1237    1]\n",
      " [1238    0]\n",
      " [1239    1]\n",
      " [1240    0]\n",
      " [1241    1]\n",
      " [1242    1]\n",
      " [1243    0]\n",
      " [1244    0]\n",
      " [1245    0]\n",
      " [1246    1]\n",
      " [1247    0]\n",
      " [1248    1]\n",
      " [1249    0]\n",
      " [1250    0]\n",
      " [1251    1]\n",
      " [1252    0]\n",
      " [1253    1]\n",
      " [1254    1]\n",
      " [1255    0]\n",
      " [1256    1]\n",
      " [1257    0]\n",
      " [1258    0]\n",
      " [1259    1]\n",
      " [1260    1]\n",
      " [1261    0]\n",
      " [1262    0]\n",
      " [1263    1]\n",
      " [1264    0]\n",
      " [1265    0]\n",
      " [1266    1]\n",
      " [1267    1]\n",
      " [1268    1]\n",
      " [1269    0]\n",
      " [1270    0]\n",
      " [1271    0]\n",
      " [1272    0]\n",
      " [1273    0]\n",
      " [1274    1]\n",
      " [1275    1]\n",
      " [1276    0]\n",
      " [1277    1]\n",
      " [1278    0]\n",
      " [1279    0]\n",
      " [1280    0]\n",
      " [1281    0]\n",
      " [1282    0]\n",
      " [1283    1]\n",
      " [1284    1]\n",
      " [1285    0]\n",
      " [1286    0]\n",
      " [1287    1]\n",
      " [1288    0]\n",
      " [1289    1]\n",
      " [1290    0]\n",
      " [1291    0]\n",
      " [1292    1]\n",
      " [1293    0]\n",
      " [1294    1]\n",
      " [1295    0]\n",
      " [1296    0]\n",
      " [1297    0]\n",
      " [1298    0]\n",
      " [1299    0]\n",
      " [1300    1]\n",
      " [1301    1]\n",
      " [1302    1]\n",
      " [1303    1]\n",
      " [1304    1]\n",
      " [1305    0]\n",
      " [1306    1]\n",
      " [1307    0]\n",
      " [1308    0]\n",
      " [1309    0]]\n"
     ]
    }
   ],
   "source": [
    "y_pred = classifier.predict(X_test)\n",
    "print(np.concatenate((y_test.reshape(len(y_test),1),y_pred.reshape(len(y_pred),1) ),1))"
   ]
  },
  {
   "cell_type": "code",
   "execution_count": 14,
   "metadata": {
    "execution": {
     "iopub.execute_input": "2021-01-07T10:58:53.148546Z",
     "iopub.status.busy": "2021-01-07T10:58:53.147805Z",
     "iopub.status.idle": "2021-01-07T10:58:53.152853Z",
     "shell.execute_reply": "2021-01-07T10:58:53.151904Z"
    },
    "papermill": {
     "duration": 0.036643,
     "end_time": "2021-01-07T10:58:53.153013",
     "exception": false,
     "start_time": "2021-01-07T10:58:53.116370",
     "status": "completed"
    },
    "tags": []
   },
   "outputs": [],
   "source": [
    "submission = pd.DataFrame({\n",
    "        \"PassengerId\": y_test,\n",
    "        \"Survived\": y_pred\n",
    "    })"
   ]
  },
  {
   "cell_type": "code",
   "execution_count": 15,
   "metadata": {
    "execution": {
     "iopub.execute_input": "2021-01-07T10:58:53.206891Z",
     "iopub.status.busy": "2021-01-07T10:58:53.205963Z",
     "iopub.status.idle": "2021-01-07T10:58:53.691851Z",
     "shell.execute_reply": "2021-01-07T10:58:53.691077Z"
    },
    "papermill": {
     "duration": 0.517356,
     "end_time": "2021-01-07T10:58:53.691972",
     "exception": false,
     "start_time": "2021-01-07T10:58:53.174616",
     "status": "completed"
    },
    "tags": []
   },
   "outputs": [],
   "source": [
    "submission = pd.DataFrame(submission).to_csv(\"output.csv\",index = False)"
   ]
  }
 ],
 "metadata": {
  "kernelspec": {
   "display_name": "Python 3",
   "language": "python",
   "name": "python3"
  },
  "language_info": {
   "codemirror_mode": {
    "name": "ipython",
    "version": 3
   },
   "file_extension": ".py",
   "mimetype": "text/x-python",
   "name": "python",
   "nbconvert_exporter": "python",
   "pygments_lexer": "ipython3",
   "version": "3.7.6"
  },
  "papermill": {
   "duration": 8.592516,
   "end_time": "2021-01-07T10:58:53.817585",
   "environment_variables": {},
   "exception": null,
   "input_path": "__notebook__.ipynb",
   "output_path": "__notebook__.ipynb",
   "parameters": {},
   "start_time": "2021-01-07T10:58:45.225069",
   "version": "2.1.0"
  }
 },
 "nbformat": 4,
 "nbformat_minor": 4
}
